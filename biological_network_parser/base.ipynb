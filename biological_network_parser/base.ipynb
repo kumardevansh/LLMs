{
 "cells": [
  {
   "cell_type": "code",
   "execution_count": null,
   "id": "5f866375",
   "metadata": {},
   "outputs": [],
   "source": [
    "%pip install transformers gradio"
   ]
  },
  {
   "cell_type": "code",
   "execution_count": null,
   "id": "81ff59f2",
   "metadata": {},
   "outputs": [],
   "source": [
    "from transformers import pipeline\n",
    "import networkx as nx\n",
    "import gradio as gr"
   ]
  },
  {
   "cell_type": "code",
   "execution_count": null,
   "id": "f73d5289",
   "metadata": {},
   "outputs": [],
   "source": [
    "# parse text-based network\n",
    "def parse_networks(input_string):\n",
    "  edges = []\n",
    "  reversible_edges = []\n",
    "\n",
    "  for part in input_string.split(', '):\n",
    "    part = part.strip()\n",
    "    if '<->' in part:\n",
    "      a, b = part.split('<->')\n",
    "      reversible_edges.append((a.strip(), b.strip()))\n",
    "    elif '->' in part:\n",
    "      a, b = part.split('->')\n",
    "      edges.append((a.strip(), b.strip()))\n",
    "\n",
    "  return edges, reversible_edges"
   ]
  },
  {
   "cell_type": "code",
   "execution_count": null,
   "id": "00e957f1",
   "metadata": {},
   "outputs": [],
   "source": [
    "# build graph using networkx\n",
    "def build_graph(edges, reversible_edges):\n",
    "  G = nx.DiGraph()\n",
    "\n",
    "  G.add_edges_from(edges)\n",
    "  for a, b in reversible_edges:\n",
    "    G.add_edge(a, b)\n",
    "    G.add_edge(b, a)\n",
    "  return G"
   ]
  },
  {
   "cell_type": "code",
   "execution_count": null,
   "id": "4e4a9ab9",
   "metadata": {},
   "outputs": [],
   "source": [
    "# analyze graph\n",
    "def analyze_graph(G):\n",
    "  num_nodes = G.number_of_nodes()\n",
    "  num_edges = G.number_of_edges()\n",
    "  is_cyclic = not nx.is_directed_acyclic_graph(G)\n",
    "\n",
    "  return {\"nodes\": list(G.nodes),\n",
    "          \"edges\": list(G.edges),\n",
    "          \"num_nodes\": num_nodes,\n",
    "          \"num_edges\":num_edges,\n",
    "          \"is_cyclic\": is_cyclic\n",
    "          }"
   ]
  },
  {
   "cell_type": "code",
   "execution_count": null,
   "id": "c9515116",
   "metadata": {},
   "outputs": [],
   "source": [
    "# Now, import the pipeline\n",
    "qa = pipeline(\"text2text-generation\", model=\"google/flan-t5-base\")"
   ]
  },
  {
   "cell_type": "code",
   "execution_count": null,
   "id": "61358d57",
   "metadata": {},
   "outputs": [],
   "source": [
    "# Define the function that gets responses based on user input\n",
    "def process_network(query, input_string):\n",
    "    # Parse the network and build the graph\n",
    "    edges, reversible = parse_networks(input_string)\n",
    "    G = build_graph(edges, reversible)\n",
    "    graph_info = analyze_graph(G)\n",
    "\n",
    "    # Prepare a prompt for the LLM based on the user's query\n",
    "    if \"variables\" in query.lower():\n",
    "        answer = f\"There are {graph_info['num_nodes']} variables (nodes) in the network.\"\n",
    "    elif \"edges\" in query.lower():\n",
    "        answer = f\"The edges in the network are: {graph_info['edges']}.\"\n",
    "    elif \"cycle\" in query.lower() or \"cyclic\" in query.lower():\n",
    "        answer = f\"Is the network cyclic? {'Yes' if graph_info['is_cyclic'] else 'No'}.\"\n",
    "    else:\n",
    "        # Use the LLM for other specific queries\n",
    "        prompt = f\"Given the network with nodes: {graph_info['nodes']} and edges: {graph_info['edges']}, answer the query: {query}\"\n",
    "        answer = qa(prompt, max_length=128)[0]['generated_text']\n",
    "\n",
    "    return answer\n",
    "\n",
    "# Create the Gradio interface\n",
    "iface = gr.Interface(\n",
    "    fn=process_network,\n",
    "    inputs=[\"text\",\"text\"],  # Network description and user query\n",
    "    outputs=\"text\",  # Answer text\n",
    "    # live=True,\n",
    "    title=\"Biological Network Query System\",\n",
    "    description=\"Input a network in the form 'A->B, B<->C' and ask questions like 'How many variables?', 'What are the edges?', or 'Is it cyclic?'\"\n",
    ")\n",
    "\n",
    "# Launch the interface\n",
    "iface.launch(share=True)\n"
   ]
  },
  {
   "cell_type": "code",
   "execution_count": null,
   "id": "6565d1c2",
   "metadata": {},
   "outputs": [],
   "source": []
  }
 ],
 "metadata": {
  "kernelspec": {
   "display_name": "Python 3",
   "language": "python",
   "name": "python3"
  },
  "language_info": {
   "codemirror_mode": {
    "name": "ipython",
    "version": 3
   },
   "file_extension": ".py",
   "mimetype": "text/x-python",
   "name": "python",
   "nbconvert_exporter": "python",
   "pygments_lexer": "ipython3",
   "version": "3.11.9"
  }
 },
 "nbformat": 4,
 "nbformat_minor": 5
}
