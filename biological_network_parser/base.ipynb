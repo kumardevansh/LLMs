{
 "cells": [
  {
   "cell_type": "code",
   "execution_count": null,
   "id": "5f866375",
   "metadata": {},
   "outputs": [],
   "source": [
    "%pip install transformers gradio sympy networkx"
   ]
  },
  {
   "cell_type": "code",
   "execution_count": null,
   "id": "81ff59f2",
   "metadata": {},
   "outputs": [],
   "source": [
    "from transformers import pipeline\n",
    "import networkx as nx\n",
    "import gradio as gr\n",
    "import sympy as sp\n",
    "from collections import defaultdict"
   ]
  },
  {
   "cell_type": "code",
   "execution_count": null,
   "id": "f73d5289",
   "metadata": {},
   "outputs": [],
   "source": [
    "# parse text-based network\n",
    "def parse_network(input_string):\n",
    "    edges = []\n",
    "    reversible_edges = []\n",
    "\n",
    "    for part in input_string.split(','):\n",
    "        part = part.strip()\n",
    "        if '<->' in part:\n",
    "            a, b = part.split('<->')\n",
    "            reversible_edges.append((a.strip(), b.strip()))\n",
    "        elif '->' in part:\n",
    "            a, b = part.split('->')\n",
    "            edges.append((a.strip(), b.strip()))\n",
    "\n",
    "    return edges, reversible_edges"
   ]
  },
  {
   "cell_type": "code",
   "execution_count": null,
   "id": "00e957f1",
   "metadata": {},
   "outputs": [],
   "source": [
    "# build graph using networkx\n",
    "def build_graph(edges, reversible_edges):\n",
    "  G = nx.DiGraph()\n",
    "\n",
    "  G.add_edges_from(edges)\n",
    "  for a, b in reversible_edges:\n",
    "    G.add_edge(a, b)\n",
    "    G.add_edge(b, a)\n",
    "  return G"
   ]
  },
  {
   "cell_type": "code",
   "execution_count": null,
   "id": "4e4a9ab9",
   "metadata": {},
   "outputs": [],
   "source": [
    "# analyze graph\n",
    "def analyze_graph(G):\n",
    "  num_nodes = G.number_of_nodes()\n",
    "  num_edges = G.number_of_edges()\n",
    "  is_cyclic = not nx.is_directed_acyclic_graph(G)\n",
    "\n",
    "  return {\"nodes\": list(G.nodes),\n",
    "          \"edges\": list(G.edges),\n",
    "          \"num_nodes\": num_nodes,\n",
    "          \"num_edges\":num_edges,\n",
    "          \"is_cyclic\": is_cyclic\n",
    "          }"
   ]
  },
  {
   "cell_type": "code",
   "execution_count": null,
   "id": "b18543c0",
   "metadata": {},
   "outputs": [],
   "source": [
    "%pip install tensorflow"
   ]
  },
  {
   "cell_type": "code",
   "execution_count": null,
   "id": "c9515116",
   "metadata": {},
   "outputs": [],
   "source": [
    "# Now, import the pipeline\n",
    "qa = pipeline(\"text2text-generation\", model=\"google/flan-t5-base\")"
   ]
  },
  {
   "cell_type": "code",
   "execution_count": null,
   "id": "e71b2a6b",
   "metadata": {},
   "outputs": [],
   "source": [
    "# --- Mass-action ODE Generator (rule-based) ---\n",
    "def mass_action_odes(edges, reversible_edges):\n",
    "    species = set()\n",
    "    odes = defaultdict(lambda: 0)\n",
    "    rate_counter = 1  # Track unique rate constants\n",
    "    \n",
    "    # Process irreversible edges (A -> B)\n",
    "    for a, b in edges:\n",
    "        A, B = sp.symbols(f\"{a} {b}\")\n",
    "        species.update([A, B])\n",
    "        k = sp.symbols(f'k{rate_counter}')\n",
    "        rate_counter += 1\n",
    "        \n",
    "        odes[A] -= k * A\n",
    "        odes[B] += k * A\n",
    "\n",
    "    # Process reversible edges (B <-> C)\n",
    "    for a, b in reversible_edges:\n",
    "        A, B = sp.symbols(f\"{a} {b}\")\n",
    "        species.update([A, B])\n",
    "        k_forward = sp.symbols(f'k{rate_counter}')\n",
    "        rate_counter += 1\n",
    "        k_reverse = sp.symbols(f'k{rate_counter}')\n",
    "        rate_counter += 1\n",
    "        \n",
    "        # Forward reaction (A -> B)\n",
    "        odes[A] -= k_forward * A\n",
    "        odes[B] += k_forward * A\n",
    "        \n",
    "        # Reverse reaction (B -> A)\n",
    "        odes[B] -= k_reverse * B\n",
    "        odes[A] += k_reverse * B\n",
    "\n",
    "    return dict(odes)\n",
    "\n",
    "def format_odes(odes):\n",
    "    return \"\\n\".join([f\"d{var}/dt = {sp.simplify(expr)}\" for var, expr in odes.items()])"
   ]
  },
  {
   "cell_type": "code",
   "execution_count": null,
   "id": "ffebf5b8",
   "metadata": {},
   "outputs": [],
   "source": [
    "def compute_jacobian(odes):\n",
    "    variables = list(odes.keys())\n",
    "    F = sp.Matrix([odes[var] for var in variables])\n",
    "    J = F.jacobian(variables)\n",
    "    return sp.pretty(J)"
   ]
  },
  {
   "cell_type": "code",
   "execution_count": null,
   "id": "61358d57",
   "metadata": {},
   "outputs": [],
   "source": [
    "# Define the function that gets responses based on user input\n",
    "def process_network(input_string, query):\n",
    "    edges, reversible_edges = parse_network(input_string)\n",
    "    G = build_graph(edges, reversible_edges)\n",
    "    info = analyze_graph(G)\n",
    "\n",
    "    if 'ode' in query.lower():\n",
    "        ode_sys = mass_action_odes(edges, reversible_edges)\n",
    "        return format_odes(ode_sys)\n",
    "\n",
    "    elif 'jacobian' in query.lower():\n",
    "        ode_sys = mass_action_odes(edges, reversible_edges)\n",
    "        return f\"Jacobian Matrix:\\n{compute_jacobian(ode_sys)}\"\n",
    "\n",
    "    elif 'variables' in query.lower():\n",
    "        return f\"There are {info['num_nodes']} variables: {info['nodes']}\"\n",
    "\n",
    "    elif 'edges' in query.lower():\n",
    "        return f\"Edges: {info['edges']}\"\n",
    "\n",
    "    elif 'cyclic' in query.lower():\n",
    "        return f\"Cyclic? {'Yes' if info['is_cyclic'] else 'No'}\"\n",
    "\n",
    "    else:\n",
    "        # return \"Query not understood. Try asking about variables, edges, ODEs, or Jacobian.\"\n",
    "        # Use the LLM for other specific queries\n",
    "        prompt = f\"Given the network with nodes: {info['nodes']} and edges: {info['edges']}, answer the query: {query}\"\n",
    "        answer = qa(prompt, max_length=128)[0]['generated_text']\n",
    "\n",
    "    return answer\n",
    "\n",
    "# Create the Gradio interface\n",
    "iface = gr.Interface(\n",
    "    fn=process_network,\n",
    "    inputs=[\"text\",\"text\"],  # Network description and user query\n",
    "    outputs=\"text\",  # Answer text\n",
    "    # live=True,\n",
    "    title=\"Biological Network Query System\",\n",
    "    description=\"Input a network in the form 'A->B, B<->C' and ask questions like 'How many variables?', 'What are the edges?', or 'Is it cyclic?'\"\n",
    ")\n",
    "\n",
    "# Launch the interface\n",
    "iface.launch(share=True)\n"
   ]
  },
  {
   "cell_type": "code",
   "execution_count": null,
   "id": "6565d1c2",
   "metadata": {},
   "outputs": [],
   "source": []
  }
 ],
 "metadata": {
  "kernelspec": {
   "display_name": "Python 3",
   "language": "python",
   "name": "python3"
  },
  "language_info": {
   "codemirror_mode": {
    "name": "ipython",
    "version": 3
   },
   "file_extension": ".py",
   "mimetype": "text/x-python",
   "name": "python",
   "nbconvert_exporter": "python",
   "pygments_lexer": "ipython3",
   "version": "3.13.3"
  }
 },
 "nbformat": 4,
 "nbformat_minor": 5
}
