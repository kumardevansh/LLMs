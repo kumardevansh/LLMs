{
  "nbformat": 4,
  "nbformat_minor": 0,
  "metadata": {
    "colab": {
      "provenance": [],
      "gpuType": "T4",
      "authorship_tag": "ABX9TyOzg8j6PCrT/VzMiygYwukW",
      "include_colab_link": true
    },
    "kernelspec": {
      "name": "python3",
      "display_name": "Python 3"
    },
    "language_info": {
      "name": "python"
    }
  },
  "cells": [
    {
      "cell_type": "markdown",
      "metadata": {
        "id": "view-in-github",
        "colab_type": "text"
      },
      "source": [
        "<a href=\"https://colab.research.google.com/github/kumardevansh/LLMs/blob/main/chatbot.ipynb\" target=\"_parent\"><img src=\"https://colab.research.google.com/assets/colab-badge.svg\" alt=\"Open In Colab\"/></a>"
      ]
    },
    {
      "cell_type": "code",
      "execution_count": null,
      "metadata": {
        "id": "-2mG8lwwG8w6"
      },
      "outputs": [],
      "source": [
        "!pip install transformers gradio"
      ]
    },
    {
      "cell_type": "code",
      "source": [
        "from transformers import pipeline\n",
        "import gradio as gr"
      ],
      "metadata": {
        "id": "MJtGFbUHIpIx"
      },
      "execution_count": 4,
      "outputs": []
    },
    {
      "cell_type": "code",
      "source": [
        "chatbot = pipeline(model=\"facebook/blenderbot-400M-distill\")"
      ],
      "metadata": {
        "id": "U2GfNth4IsNL"
      },
      "execution_count": null,
      "outputs": []
    },
    {
      "cell_type": "code",
      "source": [
        "chatbot(\"Hi\")"
      ],
      "metadata": {
        "id": "x6QBx_CGI9LR"
      },
      "execution_count": null,
      "outputs": []
    },
    {
      "cell_type": "code",
      "source": [
        "def my_chatbot(message, history):\n",
        "  response = chatbot(message)\n",
        "  return response[0]['generated_text']\n",
        "\n",
        "demo_chatbot = gr.ChatInterface(my_chatbot, title=\"chatbot\", description=\"Enter text to have a conversation\", type='messages')\n",
        "demo_chatbot.launch(share=True)"
      ],
      "metadata": {
        "id": "p5tGnGUlLn6a"
      },
      "execution_count": null,
      "outputs": []
    },
    {
      "cell_type": "code",
      "source": [],
      "metadata": {
        "id": "2qwaH0lVOVua"
      },
      "execution_count": null,
      "outputs": []
    }
  ]
}