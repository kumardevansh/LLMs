{
  "nbformat": 4,
  "nbformat_minor": 0,
  "metadata": {
    "colab": {
      "provenance": [],
      "authorship_tag": "ABX9TyO6EtTUC/MtSJ7Rl0XL3zO/",
      "include_colab_link": true
    },
    "kernelspec": {
      "name": "python3",
      "display_name": "Python 3"
    },
    "language_info": {
      "name": "python"
    }
  },
  "cells": [
    {
      "cell_type": "markdown",
      "metadata": {
        "id": "view-in-github",
        "colab_type": "text"
      },
      "source": [
        "<a href=\"https://colab.research.google.com/github/kumardevansh/LLMs/blob/main/summarizer_bot.ipynb\" target=\"_parent\"><img src=\"https://colab.research.google.com/assets/colab-badge.svg\" alt=\"Open In Colab\"/></a>"
      ]
    },
    {
      "cell_type": "code",
      "source": [
        "!pip install transformers gradio"
      ],
      "metadata": {
        "id": "DH4zSYQREAxA"
      },
      "execution_count": null,
      "outputs": []
    },
    {
      "cell_type": "code",
      "execution_count": 3,
      "metadata": {
        "id": "pUE6UL7XDqS1"
      },
      "outputs": [],
      "source": [
        "from transformers import pipeline\n",
        "import gradio as gr"
      ]
    },
    {
      "cell_type": "code",
      "source": [
        "summarizer = pipeline(\"summarization\", model = \"facebook/bart-large-cnn\")"
      ],
      "metadata": {
        "id": "RDlXNpFkDxGn"
      },
      "execution_count": null,
      "outputs": []
    },
    {
      "cell_type": "code",
      "source": [
        "text = \"\"\"hello world seems like the most used first program line almost\n",
        "            everyone writes atleast one time in their life, which might also\n",
        "            be due to the fact that it is written in almost every tutorial\n",
        "            on the internet.\n",
        "            \"\"\"\n",
        "summary_text = summarizer(text, min_length = 5, max_length = 50)[0]['summary_text']\n",
        "summary_text"
      ],
      "metadata": {
        "id": "uP0KN8pPEbaY"
      },
      "execution_count": null,
      "outputs": []
    },
    {
      "cell_type": "code",
      "source": [
        "def summarizer_bot(message, history):\n",
        "  summary = summarizer(message, min_length = 5, max_length = 50)[0]['summary_text']\n",
        "  return summary\n",
        "\n",
        "demo_summarizer = gr.ChatInterface(summarizer_bot, title = \"Summarizer Bot\", description = \"Enter text to summarize it\", type = 'messages')\n",
        "demo_summarizer.launch(share = True, debug = True)"
      ],
      "metadata": {
        "id": "aYKYL32lD8Al"
      },
      "execution_count": null,
      "outputs": []
    },
    {
      "cell_type": "code",
      "source": [],
      "metadata": {
        "id": "YXjtUzLzGOxr"
      },
      "execution_count": null,
      "outputs": []
    }
  ]
}